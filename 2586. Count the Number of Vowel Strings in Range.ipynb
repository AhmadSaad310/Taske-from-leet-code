{
 "cells": [
  {
   "cell_type": "code",
   "execution_count": 12,
   "id": "9ba6f22d-475e-4987-a20d-d9f233507616",
   "metadata": {},
   "outputs": [
    {
     "name": "stdout",
     "output_type": "stream",
     "text": [
      "2\n"
     ]
    }
   ],
   "source": [
    "def vowel_strings(words,left,right):\n",
    "    vowel = ['a', 'e', 'i', 'o', 'u']\n",
    "    count = 0\n",
    "    for x in words[left:right+1]:\n",
    "        if x[0] in vowel and x[-1] in vowel:\n",
    "            count += 1\n",
    "    return count\n",
    "\n",
    "words = [\"are\",\"amy\",\"u\"]\n",
    "left = 0\n",
    "right = 2\n",
    "print(vowel_strings(words,left,right))"
   ]
  },
  {
   "cell_type": "code",
   "execution_count": null,
   "id": "d56bf0ea-c0dc-4ec8-9c44-ea25f0a2ea36",
   "metadata": {},
   "outputs": [],
   "source": []
  }
 ],
 "metadata": {
  "kernelspec": {
   "display_name": "Python 3 (ipykernel)",
   "language": "python",
   "name": "python3"
  },
  "language_info": {
   "codemirror_mode": {
    "name": "ipython",
    "version": 3
   },
   "file_extension": ".py",
   "mimetype": "text/x-python",
   "name": "python",
   "nbconvert_exporter": "python",
   "pygments_lexer": "ipython3",
   "version": "3.12.4"
  }
 },
 "nbformat": 4,
 "nbformat_minor": 5
}
