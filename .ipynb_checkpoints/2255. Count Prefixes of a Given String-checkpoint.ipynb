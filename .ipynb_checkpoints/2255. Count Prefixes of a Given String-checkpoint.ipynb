{
 "cells": [
  {
   "cell_type": "code",
   "execution_count": 3,
   "id": "9fcc0fdb-c398-430e-89cd-988521a668ae",
   "metadata": {},
   "outputs": [
    {
     "name": "stdout",
     "output_type": "stream",
     "text": [
      "2\n"
     ]
    }
   ],
   "source": [
    "def count_prefix(words,s):\n",
    "    count = 0\n",
    "    for w in words:\n",
    "        if s.startswith(w):\n",
    "            count += 1\n",
    "    return count\n",
    "\n",
    "# words = [\"a\",\"b\",\"c\",\"ab\",\"bc\",\"abc\"]\n",
    "# s = \"abc\"\n",
    "words = [\"a\",\"a\"]\n",
    "s = \"aa\"\n",
    "print (count_prefix(words,s))"
   ]
  },
  {
   "cell_type": "code",
   "execution_count": null,
   "id": "cb9dd061-ea9c-4a9b-abe5-3306c1cbe846",
   "metadata": {},
   "outputs": [],
   "source": []
  }
 ],
 "metadata": {
  "kernelspec": {
   "display_name": "Python 3 (ipykernel)",
   "language": "python",
   "name": "python3"
  },
  "language_info": {
   "codemirror_mode": {
    "name": "ipython",
    "version": 3
   },
   "file_extension": ".py",
   "mimetype": "text/x-python",
   "name": "python",
   "nbconvert_exporter": "python",
   "pygments_lexer": "ipython3",
   "version": "3.12.4"
  }
 },
 "nbformat": 4,
 "nbformat_minor": 5
}
