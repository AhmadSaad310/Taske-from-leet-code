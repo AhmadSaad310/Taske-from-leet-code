{
 "cells": [
  {
   "cell_type": "code",
   "execution_count": 5,
   "id": "943f533d-f08f-4621-895a-72d68494f2df",
   "metadata": {},
   "outputs": [
    {
     "name": "stdout",
     "output_type": "stream",
     "text": [
      "[0, 1]\n"
     ]
    }
   ],
   "source": [
    "#2942. Find Words Containing Character\n",
    "def findWordsContaining(words,x):\n",
    "    result = []\n",
    "    for w in (words):\n",
    "        if x in w:\n",
    "            result.append(words.index(w))\n",
    "    return result\n",
    "\n",
    "words = [\"leet\",\"code\"]\n",
    "x = \"e\"\n",
    "print(findWordsContaining(words,x))"
   ]
  },
  {
   "cell_type": "code",
   "execution_count": null,
   "id": "f436cd96-4722-4331-a32c-7feb322597bd",
   "metadata": {},
   "outputs": [],
   "source": []
  }
 ],
 "metadata": {
  "kernelspec": {
   "display_name": "Python 3 (ipykernel)",
   "language": "python",
   "name": "python3"
  },
  "language_info": {
   "codemirror_mode": {
    "name": "ipython",
    "version": 3
   },
   "file_extension": ".py",
   "mimetype": "text/x-python",
   "name": "python",
   "nbconvert_exporter": "python",
   "pygments_lexer": "ipython3",
   "version": "3.12.4"
  }
 },
 "nbformat": 4,
 "nbformat_minor": 5
}
