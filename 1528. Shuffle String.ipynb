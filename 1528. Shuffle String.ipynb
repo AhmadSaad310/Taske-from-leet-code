{
 "cells": [
  {
   "cell_type": "code",
   "execution_count": 163,
   "id": "91d21461-0c60-4e63-8ea2-9a49f30b10af",
   "metadata": {},
   "outputs": [
    {
     "name": "stdout",
     "output_type": "stream",
     "text": [
      "leetcode\n"
     ]
    }
   ],
   "source": [
    "#1528. Shuffle String\n",
    "#s = \"codeleet\", indices = [4,5,6,7,0,2,1,3]\n",
    "def shuffle_string(s,indices):\n",
    "        mystr = ['']*len(s)\n",
    "        count = 0\n",
    "        for x in indices:\n",
    "            mystr[x] = s[count]\n",
    "            count += 1\n",
    "        return ''.join(mystr)\n",
    "\n",
    "\n",
    "s = \"codeleet\"\n",
    "indices = [4,5,6,7,0,2,1,3]\n",
    "print(shuffle_string(s,indices))"
   ]
  },
  {
   "cell_type": "code",
   "execution_count": null,
   "id": "194d7edb-6858-4d6a-b0b3-60626c14b8b2",
   "metadata": {},
   "outputs": [],
   "source": []
  }
 ],
 "metadata": {
  "kernelspec": {
   "display_name": "Python 3 (ipykernel)",
   "language": "python",
   "name": "python3"
  },
  "language_info": {
   "codemirror_mode": {
    "name": "ipython",
    "version": 3
   },
   "file_extension": ".py",
   "mimetype": "text/x-python",
   "name": "python",
   "nbconvert_exporter": "python",
   "pygments_lexer": "ipython3",
   "version": "3.12.4"
  }
 },
 "nbformat": 4,
 "nbformat_minor": 5
}
