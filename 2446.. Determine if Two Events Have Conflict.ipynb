{
 "cells": [
  {
   "cell_type": "code",
   "execution_count": 3,
   "id": "9ba6f22d-475e-4987-a20d-d9f233507616",
   "metadata": {},
   "outputs": [
    {
     "name": "stdout",
     "output_type": "stream",
     "text": [
      "True\n"
     ]
    }
   ],
   "source": [
    "def have_conflict(event1,event2):\n",
    "    if event2[0] < event1[0]:\n",
    "        event1 , event2 = event2 , event1\n",
    "    if event1[1] < event2[0]:\n",
    "        return False\n",
    "    return True\n",
    "\n",
    "#event1 = [\"01:15\",\"02:00\"]\n",
    "#event2 = [\"02:00\",\"03:00\"]\n",
    "event1 = [\"01:00\",\"02:00\"]\n",
    "event2 = [\"01:20\",\"03:00\"]\n",
    "print(have_conflict(event1,event2))"
   ]
  },
  {
   "cell_type": "code",
   "execution_count": null,
   "id": "66fcf959-6bda-4a2c-a96b-224aea4ddd41",
   "metadata": {},
   "outputs": [],
   "source": []
  }
 ],
 "metadata": {
  "kernelspec": {
   "display_name": "Python 3 (ipykernel)",
   "language": "python",
   "name": "python3"
  },
  "language_info": {
   "codemirror_mode": {
    "name": "ipython",
    "version": 3
   },
   "file_extension": ".py",
   "mimetype": "text/x-python",
   "name": "python",
   "nbconvert_exporter": "python",
   "pygments_lexer": "ipython3",
   "version": "3.12.4"
  }
 },
 "nbformat": 4,
 "nbformat_minor": 5
}
